{
 "cells": [
  {
   "cell_type": "markdown",
   "metadata": {},
   "source": [
    "# Train, compare, and register models\n",
    "\n",
    "This notebook provides a quick overview of training ML models using [MLRun](https://www.mlrun.org/) MLOps orchestration framework.\n",
    "\n",
    "Make sure you reviewed the basics in MLRun [**Quick Start Tutorial**](./01-mlrun-basics.html).\n",
    "\n",
    "Tutorial steps:\n",
    "- [**Define an MLRun project and a training functions**](#define-project)\n",
    "- [**Run the function, log the artifacts and model**](#run-function)\n",
    "- [**Hyper-parameter tuning and model/experiment comparison**](#hyper-param)\n",
    "- [**Build and test the model serving functions**](#model-serving)\n",
    "\n",
    "\n",
    "## MLRun installation and configuration\n",
    "\n",
    "Before running this notebook make sure `mlrun` and `sklearn` packages are installed (`pip install mlrun scikit-learn~=1.0`) and that you have configured the access to the MLRun service. "
   ]
  },
  {
   "cell_type": "code",
   "execution_count": null,
   "metadata": {},
   "outputs": [],
   "source": [
    "# install MLRun if not installed, run this only once (restart the notebook after the install !!!)\n",
    "%pip install mlrun"
   ]
  },
  {
   "cell_type": "markdown",
   "metadata": {},
   "source": [
    "<a id=\"define-project\"></a>\n",
    "## Define MLRun project and a training functions\n",
    "\n",
    "You should create, load, or use (get) an **{ref}`MLRun Project <Projects>`** that holds all your functions and assets.\n",
    "\n",
    "**Get or create a new project:**\n",
    "\n",
    "The `get_or_create_project()` method tries to load the project from MLRun DB. If the project does not exist it creates a new one."
   ]
  },
  {
   "cell_type": "code",
   "execution_count": 1,
   "metadata": {},
   "outputs": [
    {
     "name": "stdout",
     "output_type": "stream",
     "text": [
      "> 2022-09-01 07:35:18,805 [warning] Failed resolving version info. Ignoring and using defaults\n",
      "> 2022-09-01 07:35:22,162 [warning] Server or client version is unstable. Assuming compatible: {'server_version': '1.1.0-rc11', 'client_version': '0.0.0+unstable'}\n",
      "> 2022-09-01 07:35:22,164 [info] Username was normalized to match the required pattern for project name: {'username': 'Davesh', 'normalized_username': 'davesh'}\n",
      "> 2022-09-01 07:35:22,165 [info] Username was normalized to match the required pattern for project name: {'username': 'Davesh', 'normalized_username': 'davesh'}\n",
      "> 2022-09-01 07:35:22,198 [info] Username was normalized to match the required pattern for project name: {'username': 'Davesh', 'normalized_username': 'davesh'}\n",
      "> 2022-09-01 07:35:37,619 [info] loaded project tutorial from None or context and saved in MLRun DB\n"
     ]
    }
   ],
   "source": [
    "import mlrun\n",
    "project = mlrun.get_or_create_project(\"tutorial\", context=\"./\", user_project=True)"
   ]
  },
  {
   "cell_type": "markdown",
   "metadata": {},
   "source": [
    "**Add (auto) MLOps to your training function:**\n",
    "\n",
    "Training functions generate models and various model statistics. You'll want to store the models along with all the relevant data,\n",
    "metadata, and measurements. MLRun can apply all the MLOps functionality automatically (\"Auto-MLOps\") by simply using the framework specific `apply_mlrun()` method.\n",
    "\n",
    "In the training function below note the **single** custom line you need to add to your code:\n",
    "\n",
    "```python\n",
    "apply_mlrun(model=model, model_name=\"my_model\", x_test=x_test, y_test=y_test)\n",
    "```\n",
    "\n",
    "`apply_mlrun()` manages the training process and automatically logs all the framework-specific model object, details, data, metadata, and metrics.\n",
    "It accepts the model object and various optional parameters. When specifying the `x_test` and `y_test` data it generates various plots and calculations to evaluate the model.\n",
    "Metadata and parameters are automatically recorded (from MLRun `context` object) and don't need to be specified.\n",
    "\n",
    "**Function code:**\n",
    "\n",
    "Run the following cell to generate the `trainer.py` file (or copy it manually):"
   ]
  },
  {
   "cell_type": "code",
   "execution_count": 2,
   "metadata": {},
   "outputs": [
    {
     "name": "stdout",
     "output_type": "stream",
     "text": [
      "Overwriting trainer.py\n"
     ]
    }
   ],
   "source": [
    "%%writefile trainer.py\n",
    "\n",
    "from sklearn import ensemble\n",
    "from sklearn.model_selection import train_test_split\n",
    "\n",
    "import mlrun\n",
    "from mlrun.frameworks.sklearn import apply_mlrun\n",
    "\n",
    "\n",
    "def train(\n",
    "    dataset: mlrun.DataItem,  # data inputs are of type DataItem (abstract the data source)\n",
    "    label_column: str = \"Win\",\n",
    "    n_estimators: int = 100,\n",
    "    learning_rate: float = 0.1,\n",
    "    max_depth: int = 3,\n",
    "    model_name: str = \"worldcup_classifier\",\n",
    "):\n",
    "    # Get the input dataframe (Use DataItem.as_df() to access any data source)\n",
    "    df = dataset.as_df()\n",
    "\n",
    "    # Initialize the x & y data\n",
    "    X = df.drop(label_column, axis=1)\n",
    "    y = df[label_column]\n",
    "\n",
    "    # Train/Test split the dataset\n",
    "    X_train, X_test, y_train, y_test = train_test_split(\n",
    "        X, y, test_size=0.2, random_state=42\n",
    "    )\n",
    "\n",
    "    # Pick an ideal ML model\n",
    "    model = ensemble.GradientBoostingClassifier(\n",
    "        n_estimators=n_estimators, learning_rate=learning_rate, max_depth=max_depth\n",
    "    )\n",
    "\n",
    "    # -------------------- The only line you need to add for MLOps -------------------------\n",
    "    # Wraps the model with MLOps (test set is provided for analysis & accuracy measurements)\n",
    "    apply_mlrun(model=model, model_name=model_name, x_test=X_test, y_test=y_test)\n",
    "    # --------------------------------------------------------------------------------------\n",
    "\n",
    "    # Train the model\n",
    "    model.fit(X_train, y_train)\n"
   ]
  },
  {
   "cell_type": "markdown",
   "metadata": {},
   "source": [
    "**Create a serverless function object from the code above, and register it in the project:**"
   ]
  },
  {
   "cell_type": "code",
   "execution_count": 3,
   "metadata": {},
   "outputs": [],
   "source": [
    "trainer = project.set_function(\"trainer.py\", name=\"trainer\", kind=\"job\", image=\"mlrun/mlrun\", handler=\"train\")\n"
   ]
  },
  {
   "cell_type": "markdown",
   "metadata": {},
   "source": [
    "<a id=\"run-function\"></a>\n",
    "## Run the training function and log the artifacts and model\n",
    "\n",
    "**Create a dataset for training:**"
   ]
  },
  {
   "cell_type": "code",
   "execution_count": 4,
   "metadata": {},
   "outputs": [],
   "source": [
    "import pandas as pd\n",
    "import mlrun\n",
    "    \n",
    "\n",
    "def preprocess(data):\n",
    "    teams = set(list(data['Home Team Name'].unique()) + (list(data['Away Team Name'].unique())))\n",
    "    stages = list(data['Stage'].unique())\n",
    "    victories, finals, goals, victories_tur, victories_tur, goals_tur = create_zero_dict(teams, 6)\n",
    "    year = 1930\n",
    "    \n",
    "    for i, row in data.iterrows():\n",
    "        if row['Stage'] == 'Final' or row['Stage'] == 'finals':\n",
    "            finals[row['Home Team Name']] += 1\n",
    "            finals[row['Away Team Name']] += 1\n",
    "        if year != row['Year']:\n",
    "            victories_tur, goals_tur = create_zero_dict(teams, 2)\n",
    "        data = insert_to_data(data, i, row, ['finals', 'victory current tournament', 'victory', 'goals', 'goals current tournament'], \n",
    "                              [finals, victories_tur, victories, goals, goals_tur])\n",
    "\n",
    "        goals, goals_tur = update_goals(data, row, [goals, goals_tur])\n",
    "        if row['Win'] == 1:\n",
    "            victories[row['Home Team Name']] += 1\n",
    "            victories_tur[row['Home Team Name']] += 1\n",
    "        elif row['Win'] == 2:\n",
    "            victories[row['Away Team Name']] += 1\n",
    "            victories_tur[row['Away Team Name']] += 1\n",
    "        \n",
    "    data = data[data.Year > 1950]\n",
    "    data = data[data.Win > 0]\n",
    "    return data\n",
    "\n",
    "def create_zero_dict(teams, num_of_dict):\n",
    "    \n",
    "    return [dict(zip(teams, [0]*len(teams))) for i in range(num_of_dict)]\n",
    "\n",
    "def insert_to_data(data, index, row, fields, dictionaries):\n",
    "    for field, dictionary in zip(fields, dictionaries):\n",
    "        data.at[index, f'Home {field}'] = dictionary[row['Home Team Name']]\n",
    "        data.at[index, f'Away {field}'] = dictionary[row['Away Team Name']]\n",
    "    return data\n",
    "    \n",
    "def update_goals(data, row, goals_dictionaries):\n",
    "    for dictionary in goals_dictionaries:\n",
    "        dictionary[row['Home Team Name']] += row['Home Team Goals']\n",
    "        dictionary[row['Away Team Name']] += row['Away Team Goals']\n",
    "    return goals_dictionaries\n",
    "\n",
    "\n",
    "\n",
    "data = pd.read_csv('./WorldCupMatches.csv', encoding='UTF-8')\n",
    "data.dropna(inplace=True)\n",
    "data = preprocess(data)\n",
    "teams = set(list(data['Home Team Name'].unique()) + (list(data['Away Team Name'].unique())))\n",
    "stages = list(data['Stage'].unique())\n",
    "data['Home Team Name'] = pd.Categorical(data['Home Team Name'], categories=list(teams))\n",
    "data['Away Team Name'] = pd.Categorical(data['Away Team Name'], categories=list(teams))\n",
    "data['Stage'] = pd.Categorical(data['Stage'], categories=list(stages))\n",
    "home_team = pd.get_dummies(data['Away Team Name'], prefix='Away Team Name')\n",
    "away_team = pd.get_dummies(data['Home Team Name'], prefix='Home Team Name')\n",
    "stage = pd.get_dummies(data['Stage'], prefix='Stage')\n",
    "\n",
    "data.drop(columns=['Home Team Goals', 'Away Team Goals', 'Away Team Name', 'Home Team Name', 'Stage', 'Attendance'], inplace=True)\n",
    "data = pd.concat([data, stage, home_team, away_team], axis=1)\n",
    "data.dropna(inplace=True)\n",
    "\n",
    "data.to_csv('./worldcup-dataset.csv')"
   ]
  },
  {
   "cell_type": "markdown",
   "metadata": {},
   "source": [
    "**Run the function (locally) using the generated dataset:**"
   ]
  },
  {
   "cell_type": "code",
   "execution_count": 5,
   "metadata": {},
   "outputs": [
    {
     "name": "stdout",
     "output_type": "stream",
     "text": [
      "> 2022-09-01 07:35:37,938 [info] starting run trainer-train uid=40d0e2aa10df43fe9ab1ce51e45dbe5e DB=http://mlrun-api:8080\n"
     ]
    },
    {
     "data": {
      "text/html": [
       "<style>\n",
       ".dictlist {\n",
       "  background-color: #4EC64B;\n",
       "  text-align: center;\n",
       "  margin: 4px;\n",
       "  border-radius: 3px; padding: 0px 3px 1px 3px; display: inline-block;}\n",
       ".artifact {\n",
       "  cursor: pointer;\n",
       "  background-color: #4EC64B;\n",
       "  text-align: left;\n",
       "  margin: 4px; border-radius: 3px; padding: 0px 3px 1px 3px; display: inline-block;\n",
       "}\n",
       "div.block.hidden {\n",
       "  display: none;\n",
       "}\n",
       ".clickable {\n",
       "  cursor: pointer;\n",
       "}\n",
       ".ellipsis {\n",
       "  display: inline-block;\n",
       "  max-width: 60px;\n",
       "  white-space: nowrap;\n",
       "  overflow: hidden;\n",
       "  text-overflow: ellipsis;\n",
       "}\n",
       ".master-wrapper {\n",
       "  display: flex;\n",
       "  flex-flow: row nowrap;\n",
       "  justify-content: flex-start;\n",
       "  align-items: stretch;\n",
       "}\n",
       ".master-tbl {\n",
       "  flex: 3\n",
       "}\n",
       ".master-wrapper > div {\n",
       "  margin: 4px;\n",
       "  padding: 10px;\n",
       "}\n",
       "iframe.fileview {\n",
       "  border: 0 none;\n",
       "  height: 100%;\n",
       "  width: 100%;\n",
       "  white-space: pre-wrap;\n",
       "}\n",
       ".pane-header-title {\n",
       "  width: 80%;\n",
       "  font-weight: 500;\n",
       "}\n",
       ".pane-header {\n",
       "  line-height: 1;\n",
       "  background-color: #4EC64B;\n",
       "  padding: 3px;\n",
       "}\n",
       ".pane-header .close {\n",
       "  font-size: 20px;\n",
       "  font-weight: 700;\n",
       "  float: right;\n",
       "  margin-top: -5px;\n",
       "}\n",
       ".master-wrapper .right-pane {\n",
       "  border: 1px inset silver;\n",
       "  width: 40%;\n",
       "  min-height: 300px;\n",
       "  flex: 3\n",
       "  min-width: 500px;\n",
       "}\n",
       ".master-wrapper * {\n",
       "  box-sizing: border-box;\n",
       "}\n",
       "</style><script>\n",
       "function copyToClipboard(fld) {\n",
       "    if (document.queryCommandSupported && document.queryCommandSupported('copy')) {\n",
       "        var textarea = document.createElement('textarea');\n",
       "        textarea.textContent = fld.innerHTML;\n",
       "        textarea.style.position = 'fixed';\n",
       "        document.body.appendChild(textarea);\n",
       "        textarea.select();\n",
       "\n",
       "        try {\n",
       "            return document.execCommand('copy'); // Security exception may be thrown by some browsers.\n",
       "        } catch (ex) {\n",
       "\n",
       "        } finally {\n",
       "            document.body.removeChild(textarea);\n",
       "        }\n",
       "    }\n",
       "}\n",
       "function expandPanel(el) {\n",
       "  const panelName = \"#\" + el.getAttribute('paneName');\n",
       "  console.log(el.title);\n",
       "\n",
       "  document.querySelector(panelName + \"-title\").innerHTML = el.title\n",
       "  iframe = document.querySelector(panelName + \"-body\");\n",
       "\n",
       "  const tblcss = `<style> body { font-family: Arial, Helvetica, sans-serif;}\n",
       "    #csv { margin-bottom: 15px; }\n",
       "    #csv table { border-collapse: collapse;}\n",
       "    #csv table td { padding: 4px 8px; border: 1px solid silver;} </style>`;\n",
       "\n",
       "  function csvToHtmlTable(str) {\n",
       "    return '<div id=\"csv\"><table><tr><td>' +  str.replace(/[\\n\\r]+$/g, '').replace(/[\\n\\r]+/g, '</td></tr><tr><td>')\n",
       "      .replace(/,/g, '</td><td>') + '</td></tr></table></div>';\n",
       "  }\n",
       "\n",
       "  function reqListener () {\n",
       "    if (el.title.endsWith(\".csv\")) {\n",
       "      iframe.setAttribute(\"srcdoc\", tblcss + csvToHtmlTable(this.responseText));\n",
       "    } else {\n",
       "      iframe.setAttribute(\"srcdoc\", this.responseText);\n",
       "    }\n",
       "    console.log(this.responseText);\n",
       "  }\n",
       "\n",
       "  const oReq = new XMLHttpRequest();\n",
       "  oReq.addEventListener(\"load\", reqListener);\n",
       "  oReq.open(\"GET\", el.title);\n",
       "  oReq.send();\n",
       "\n",
       "\n",
       "  //iframe.src = el.title;\n",
       "  const resultPane = document.querySelector(panelName + \"-pane\");\n",
       "  if (resultPane.classList.contains(\"hidden\")) {\n",
       "    resultPane.classList.remove(\"hidden\");\n",
       "  }\n",
       "}\n",
       "function closePanel(el) {\n",
       "  const panelName = \"#\" + el.getAttribute('paneName')\n",
       "  const resultPane = document.querySelector(panelName + \"-pane\");\n",
       "  if (!resultPane.classList.contains(\"hidden\")) {\n",
       "    resultPane.classList.add(\"hidden\");\n",
       "  }\n",
       "}\n",
       "\n",
       "</script>\n",
       "<div class=\"master-wrapper\">\n",
       "  <div class=\"block master-tbl\"><div>\n",
       "<style scoped>\n",
       "    .dataframe tbody tr th:only-of-type {\n",
       "        vertical-align: middle;\n",
       "    }\n",
       "\n",
       "    .dataframe tbody tr th {\n",
       "        vertical-align: top;\n",
       "    }\n",
       "\n",
       "    .dataframe thead th {\n",
       "        text-align: right;\n",
       "    }\n",
       "</style>\n",
       "<table border=\"1\" class=\"dataframe\">\n",
       "  <thead>\n",
       "    <tr style=\"text-align: right;\">\n",
       "      <th>project</th>\n",
       "      <th>uid</th>\n",
       "      <th>iter</th>\n",
       "      <th>start</th>\n",
       "      <th>state</th>\n",
       "      <th>name</th>\n",
       "      <th>labels</th>\n",
       "      <th>inputs</th>\n",
       "      <th>parameters</th>\n",
       "      <th>results</th>\n",
       "      <th>artifacts</th>\n",
       "    </tr>\n",
       "  </thead>\n",
       "  <tbody>\n",
       "    <tr>\n",
       "      <td>tutorial-davesh</td>\n",
       "      <td><div title=\"40d0e2aa10df43fe9ab1ce51e45dbe5e\"><a href=\"https://dashboard.default-tenant.app.yh43.iguazio-cd1.com/mlprojects/tutorial-davesh/jobs/monitor/40d0e2aa10df43fe9ab1ce51e45dbe5e/overview\" target=\"_blank\" >...e45dbe5e</a></div></td>\n",
       "      <td>0</td>\n",
       "      <td>Sep 01 07:35:38</td>\n",
       "      <td>completed</td>\n",
       "      <td>trainer-train</td>\n",
       "      <td><div class=\"dictlist\">v3io_user=Davesh</div><div class=\"dictlist\">kind=</div><div class=\"dictlist\">owner=Davesh</div><div class=\"dictlist\">host=jupyter-davids-55f4d7f589-q7jwr</div></td>\n",
       "      <td><div class=\"artifact\" onclick=\"expandPanel(this)\" paneName=\"result86f3f9f9\" title=\"/files/demos/new-getting-started-demo/worldcup-dataset.csv\">dataset</div></td>\n",
       "      <td><div class=\"dictlist\">n_estimators=100</div><div class=\"dictlist\">learning_rate=0.1</div><div class=\"dictlist\">max_depth=3</div></td>\n",
       "      <td><div class=\"dictlist\">accuracy=0.773109243697479</div><div class=\"dictlist\">f1_score=0.8556149732620321</div><div class=\"dictlist\">precision_score=0.8333333333333334</div><div class=\"dictlist\">recall_score=0.8791208791208791</div></td>\n",
       "      <td><div class=\"artifact\" onclick=\"expandPanel(this)\" paneName=\"result86f3f9f9\" title=\"files/v3io/projects/tutorial-davesh/artifacts/trainer-train/0/feature-importance.html\">feature-importance</div><div title=\"v3io:///projects/tutorial-davesh/artifacts/trainer-train/0/test_set.parquet\">test_set</div><div class=\"artifact\" onclick=\"expandPanel(this)\" paneName=\"result86f3f9f9\" title=\"files/v3io/projects/tutorial-davesh/artifacts/trainer-train/0/confusion-matrix.html\">confusion-matrix</div><div class=\"artifact\" onclick=\"expandPanel(this)\" paneName=\"result86f3f9f9\" title=\"files/v3io/projects/tutorial-davesh/artifacts/trainer-train/0/roc-curves.html\">roc-curves</div><div class=\"artifact\" onclick=\"expandPanel(this)\" paneName=\"result86f3f9f9\" title=\"files/v3io/projects/tutorial-davesh/artifacts/trainer-train/0/calibration-curve.html\">calibration-curve</div><div title=\"v3io:///projects/tutorial-davesh/artifacts/trainer-train/0/model/\">model</div></td>\n",
       "    </tr>\n",
       "  </tbody>\n",
       "</table>\n",
       "</div></div>\n",
       "  <div id=\"result86f3f9f9-pane\" class=\"right-pane block hidden\">\n",
       "    <div class=\"pane-header\">\n",
       "      <span id=\"result86f3f9f9-title\" class=\"pane-header-title\">Title</span>\n",
       "      <span onclick=\"closePanel(this)\" paneName=\"result86f3f9f9\" class=\"close clickable\">&times;</span>\n",
       "    </div>\n",
       "    <iframe class=\"fileview\" id=\"result86f3f9f9-body\"></iframe>\n",
       "  </div>\n",
       "</div>\n"
      ],
      "text/plain": [
       "<IPython.core.display.HTML object>"
      ]
     },
     "metadata": {},
     "output_type": "display_data"
    },
    {
     "name": "stdout",
     "output_type": "stream",
     "text": [
      "\n"
     ]
    },
    {
     "data": {
      "text/html": [
       "<b> > to track results use the .show() or .logs() methods  or <a href=\"https://dashboard.default-tenant.app.yh43.iguazio-cd1.com/mlprojects/tutorial-davesh/jobs/monitor/40d0e2aa10df43fe9ab1ce51e45dbe5e/overview\" target=\"_blank\">click here</a> to open in UI</b>"
      ],
      "text/plain": [
       "<IPython.core.display.HTML object>"
      ]
     },
     "metadata": {},
     "output_type": "display_data"
    },
    {
     "name": "stdout",
     "output_type": "stream",
     "text": [
      "> 2022-09-01 07:35:43,505 [info] run executed, status=completed\n"
     ]
    }
   ],
   "source": [
    "trainer_run = project.run_function(\n",
    "    \"trainer\", \n",
    "    inputs={\"dataset\": \"worldcup-dataset.csv\"}, \n",
    "    params = {\"n_estimators\": 100, \"learning_rate\": 1e-1, \"max_depth\": 3},\n",
    "    local=True\n",
    ")"
   ]
  },
  {
   "cell_type": "markdown",
   "metadata": {},
   "source": [
    "<br>\n",
    "\n",
    "**View the auto generated results and artifacts:**"
   ]
  },
  {
   "cell_type": "code",
   "execution_count": 6,
   "metadata": {},
   "outputs": [
    {
     "data": {
      "text/plain": [
       "{'accuracy': 0.773109243697479,\n",
       " 'f1_score': 0.8556149732620321,\n",
       " 'precision_score': 0.8333333333333334,\n",
       " 'recall_score': 0.8791208791208791,\n",
       " 'feature-importance': 'v3io:///projects/tutorial-davesh/artifacts/trainer-train/0/feature-importance.html',\n",
       " 'test_set': 'store://artifacts/tutorial-davesh/trainer-train_test_set:40d0e2aa10df43fe9ab1ce51e45dbe5e',\n",
       " 'confusion-matrix': 'v3io:///projects/tutorial-davesh/artifacts/trainer-train/0/confusion-matrix.html',\n",
       " 'roc-curves': 'v3io:///projects/tutorial-davesh/artifacts/trainer-train/0/roc-curves.html',\n",
       " 'calibration-curve': 'v3io:///projects/tutorial-davesh/artifacts/trainer-train/0/calibration-curve.html',\n",
       " 'model': 'store://artifacts/tutorial-davesh/worldcup_classifier:40d0e2aa10df43fe9ab1ce51e45dbe5e'}"
      ]
     },
     "execution_count": 6,
     "metadata": {},
     "output_type": "execute_result"
    }
   ],
   "source": [
    "trainer_run.outputs"
   ]
  },
  {
   "cell_type": "code",
   "execution_count": null,
   "metadata": {},
   "outputs": [],
   "source": [
    "trainer_run.artifact('feature-importance').show()"
   ]
  },
  {
   "cell_type": "markdown",
   "metadata": {},
   "source": [
    "**Export model files + metadata into a zip:** (require MLRun 1.1.0 and above)\n",
    "\n",
    "You can `export()` the model package (files + metadata) into a zip, and load it on a remote system/cluster (by simply running `model = project.import_artifact(key, path)`). "
   ]
  },
  {
   "cell_type": "code",
   "execution_count": 7,
   "metadata": {},
   "outputs": [],
   "source": [
    "trainer_run.artifact('model').meta.export(\"model.zip\")"
   ]
  },
  {
   "cell_type": "markdown",
   "metadata": {},
   "source": [
    "<a id=\"hyper-param\"></a>\n",
    "## Hyper-parameter tuning and model/experiment comparison\n",
    "\n",
    "Run a `GridSearch` with a couple of parameters, and select the best run with respect to the `max accuracy`. <br>\n",
    "(Read more about MLRun [Hyper-Param and Iterative jobs](https://docs.mlrun.org/en/stable/hyper-params.html).)\n",
    "\n",
    "For basic usage you can run the hyperparameters tuning job by using the arguments: \n",
    "* `hyperparams` for the hyperparameters options and values of choice.\n",
    "* `selector` for specifying how to select the best model.\n",
    "\n",
    "**Running a remote function:**\n",
    "\n",
    "In order to run the hyper-param task over the cluster you need the input data to be available for the job, using object storage or the mlrun versioned artifact store.\n",
    "\n",
    "The following line logs (and uploads) the dataframe as a project artifact:"
   ]
  },
  {
   "cell_type": "code",
   "execution_count": 8,
   "metadata": {},
   "outputs": [],
   "source": [
    "dataset_artifact = project.log_dataset(\"worldcup-dataset\", df=data, index=False)"
   ]
  },
  {
   "cell_type": "markdown",
   "metadata": {},
   "source": [
    "Run the function over the remote Kubernetes cluster (`local` is not set):"
   ]
  },
  {
   "cell_type": "code",
   "execution_count": 9,
   "metadata": {},
   "outputs": [
    {
     "name": "stdout",
     "output_type": "stream",
     "text": [
      "> 2022-09-01 07:35:44,267 [info] starting run trainer-train uid=b814387bc6b34cb2abbd9063080c7f4d DB=http://mlrun-api:8080\n",
      "> 2022-09-01 07:35:44,516 [info] Job is running in the background, pod: trainer-train-r67jq\n",
      "> 2022-09-01 07:35:48,155 [warning] Server or client version is unstable. Assuming compatible: {'server_version': '1.1.0-rc11', 'client_version': '0.0.0+unstable'}\n",
      "> 2022-09-01 07:36:38,327 [info] best iteration=4, used criteria max.f1_score\n",
      "> 2022-09-01 07:36:39,085 [info] run executed, status=completed\n",
      "final state: completed\n"
     ]
    },
    {
     "data": {
      "text/html": [
       "<style>\n",
       ".dictlist {\n",
       "  background-color: #4EC64B;\n",
       "  text-align: center;\n",
       "  margin: 4px;\n",
       "  border-radius: 3px; padding: 0px 3px 1px 3px; display: inline-block;}\n",
       ".artifact {\n",
       "  cursor: pointer;\n",
       "  background-color: #4EC64B;\n",
       "  text-align: left;\n",
       "  margin: 4px; border-radius: 3px; padding: 0px 3px 1px 3px; display: inline-block;\n",
       "}\n",
       "div.block.hidden {\n",
       "  display: none;\n",
       "}\n",
       ".clickable {\n",
       "  cursor: pointer;\n",
       "}\n",
       ".ellipsis {\n",
       "  display: inline-block;\n",
       "  max-width: 60px;\n",
       "  white-space: nowrap;\n",
       "  overflow: hidden;\n",
       "  text-overflow: ellipsis;\n",
       "}\n",
       ".master-wrapper {\n",
       "  display: flex;\n",
       "  flex-flow: row nowrap;\n",
       "  justify-content: flex-start;\n",
       "  align-items: stretch;\n",
       "}\n",
       ".master-tbl {\n",
       "  flex: 3\n",
       "}\n",
       ".master-wrapper > div {\n",
       "  margin: 4px;\n",
       "  padding: 10px;\n",
       "}\n",
       "iframe.fileview {\n",
       "  border: 0 none;\n",
       "  height: 100%;\n",
       "  width: 100%;\n",
       "  white-space: pre-wrap;\n",
       "}\n",
       ".pane-header-title {\n",
       "  width: 80%;\n",
       "  font-weight: 500;\n",
       "}\n",
       ".pane-header {\n",
       "  line-height: 1;\n",
       "  background-color: #4EC64B;\n",
       "  padding: 3px;\n",
       "}\n",
       ".pane-header .close {\n",
       "  font-size: 20px;\n",
       "  font-weight: 700;\n",
       "  float: right;\n",
       "  margin-top: -5px;\n",
       "}\n",
       ".master-wrapper .right-pane {\n",
       "  border: 1px inset silver;\n",
       "  width: 40%;\n",
       "  min-height: 300px;\n",
       "  flex: 3\n",
       "  min-width: 500px;\n",
       "}\n",
       ".master-wrapper * {\n",
       "  box-sizing: border-box;\n",
       "}\n",
       "</style><script>\n",
       "function copyToClipboard(fld) {\n",
       "    if (document.queryCommandSupported && document.queryCommandSupported('copy')) {\n",
       "        var textarea = document.createElement('textarea');\n",
       "        textarea.textContent = fld.innerHTML;\n",
       "        textarea.style.position = 'fixed';\n",
       "        document.body.appendChild(textarea);\n",
       "        textarea.select();\n",
       "\n",
       "        try {\n",
       "            return document.execCommand('copy'); // Security exception may be thrown by some browsers.\n",
       "        } catch (ex) {\n",
       "\n",
       "        } finally {\n",
       "            document.body.removeChild(textarea);\n",
       "        }\n",
       "    }\n",
       "}\n",
       "function expandPanel(el) {\n",
       "  const panelName = \"#\" + el.getAttribute('paneName');\n",
       "  console.log(el.title);\n",
       "\n",
       "  document.querySelector(panelName + \"-title\").innerHTML = el.title\n",
       "  iframe = document.querySelector(panelName + \"-body\");\n",
       "\n",
       "  const tblcss = `<style> body { font-family: Arial, Helvetica, sans-serif;}\n",
       "    #csv { margin-bottom: 15px; }\n",
       "    #csv table { border-collapse: collapse;}\n",
       "    #csv table td { padding: 4px 8px; border: 1px solid silver;} </style>`;\n",
       "\n",
       "  function csvToHtmlTable(str) {\n",
       "    return '<div id=\"csv\"><table><tr><td>' +  str.replace(/[\\n\\r]+$/g, '').replace(/[\\n\\r]+/g, '</td></tr><tr><td>')\n",
       "      .replace(/,/g, '</td><td>') + '</td></tr></table></div>';\n",
       "  }\n",
       "\n",
       "  function reqListener () {\n",
       "    if (el.title.endsWith(\".csv\")) {\n",
       "      iframe.setAttribute(\"srcdoc\", tblcss + csvToHtmlTable(this.responseText));\n",
       "    } else {\n",
       "      iframe.setAttribute(\"srcdoc\", this.responseText);\n",
       "    }\n",
       "    console.log(this.responseText);\n",
       "  }\n",
       "\n",
       "  const oReq = new XMLHttpRequest();\n",
       "  oReq.addEventListener(\"load\", reqListener);\n",
       "  oReq.open(\"GET\", el.title);\n",
       "  oReq.send();\n",
       "\n",
       "\n",
       "  //iframe.src = el.title;\n",
       "  const resultPane = document.querySelector(panelName + \"-pane\");\n",
       "  if (resultPane.classList.contains(\"hidden\")) {\n",
       "    resultPane.classList.remove(\"hidden\");\n",
       "  }\n",
       "}\n",
       "function closePanel(el) {\n",
       "  const panelName = \"#\" + el.getAttribute('paneName')\n",
       "  const resultPane = document.querySelector(panelName + \"-pane\");\n",
       "  if (!resultPane.classList.contains(\"hidden\")) {\n",
       "    resultPane.classList.add(\"hidden\");\n",
       "  }\n",
       "}\n",
       "\n",
       "</script>\n",
       "<div class=\"master-wrapper\">\n",
       "  <div class=\"block master-tbl\"><div>\n",
       "<style scoped>\n",
       "    .dataframe tbody tr th:only-of-type {\n",
       "        vertical-align: middle;\n",
       "    }\n",
       "\n",
       "    .dataframe tbody tr th {\n",
       "        vertical-align: top;\n",
       "    }\n",
       "\n",
       "    .dataframe thead th {\n",
       "        text-align: right;\n",
       "    }\n",
       "</style>\n",
       "<table border=\"1\" class=\"dataframe\">\n",
       "  <thead>\n",
       "    <tr style=\"text-align: right;\">\n",
       "      <th>project</th>\n",
       "      <th>uid</th>\n",
       "      <th>iter</th>\n",
       "      <th>start</th>\n",
       "      <th>state</th>\n",
       "      <th>name</th>\n",
       "      <th>labels</th>\n",
       "      <th>inputs</th>\n",
       "      <th>parameters</th>\n",
       "      <th>results</th>\n",
       "      <th>artifacts</th>\n",
       "    </tr>\n",
       "  </thead>\n",
       "  <tbody>\n",
       "    <tr>\n",
       "      <td>tutorial-davesh</td>\n",
       "      <td><div title=\"b814387bc6b34cb2abbd9063080c7f4d\"><a href=\"https://dashboard.default-tenant.app.yh43.iguazio-cd1.com/mlprojects/tutorial-davesh/jobs/monitor/b814387bc6b34cb2abbd9063080c7f4d/overview\" target=\"_blank\" >...080c7f4d</a></div></td>\n",
       "      <td>0</td>\n",
       "      <td>Sep 01 07:35:48</td>\n",
       "      <td>completed</td>\n",
       "      <td>trainer-train</td>\n",
       "      <td><div class=\"dictlist\">v3io_user=Davesh</div><div class=\"dictlist\">kind=job</div><div class=\"dictlist\">owner=Davesh</div><div class=\"dictlist\">mlrun/client_version=0.0.0+unstable</div></td>\n",
       "      <td><div title=\"store://artifacts/tutorial-davesh/worldcup-dataset#0:latest\">dataset</div></td>\n",
       "      <td></td>\n",
       "      <td><div class=\"dictlist\">best_iteration=4</div><div class=\"dictlist\">accuracy=0.7647058823529411</div><div class=\"dictlist\">f1_score=0.8666666666666666</div><div class=\"dictlist\">precision_score=0.7647058823529411</div><div class=\"dictlist\">recall_score=1.0</div></td>\n",
       "      <td><div class=\"artifact\" onclick=\"expandPanel(this)\" paneName=\"result1546df8e\" title=\"files/v3io/projects/tutorial-davesh/artifacts/4/feature-importance.html\">feature-importance</div><div title=\"v3io:///projects/tutorial-davesh/artifacts/4/test_set.parquet\">test_set</div><div class=\"artifact\" onclick=\"expandPanel(this)\" paneName=\"result1546df8e\" title=\"files/v3io/projects/tutorial-davesh/artifacts/4/confusion-matrix.html\">confusion-matrix</div><div class=\"artifact\" onclick=\"expandPanel(this)\" paneName=\"result1546df8e\" title=\"files/v3io/projects/tutorial-davesh/artifacts/4/roc-curves.html\">roc-curves</div><div class=\"artifact\" onclick=\"expandPanel(this)\" paneName=\"result1546df8e\" title=\"files/v3io/projects/tutorial-davesh/artifacts/4/calibration-curve.html\">calibration-curve</div><div title=\"v3io:///projects/tutorial-davesh/artifacts/4/\">model</div><div class=\"artifact\" onclick=\"expandPanel(this)\" paneName=\"result1546df8e\" title=\"files/v3io/projects/tutorial-davesh/artifacts/iteration_results.csv\">iteration_results</div><div class=\"artifact\" onclick=\"expandPanel(this)\" paneName=\"result1546df8e\" title=\"files/v3io/projects/tutorial-davesh/artifacts/parallel_coordinates.html\">parallel_coordinates</div></td>\n",
       "    </tr>\n",
       "  </tbody>\n",
       "</table>\n",
       "</div></div>\n",
       "  <div id=\"result1546df8e-pane\" class=\"right-pane block hidden\">\n",
       "    <div class=\"pane-header\">\n",
       "      <span id=\"result1546df8e-title\" class=\"pane-header-title\">Title</span>\n",
       "      <span onclick=\"closePanel(this)\" paneName=\"result1546df8e\" class=\"close clickable\">&times;</span>\n",
       "    </div>\n",
       "    <iframe class=\"fileview\" id=\"result1546df8e-body\"></iframe>\n",
       "  </div>\n",
       "</div>\n"
      ],
      "text/plain": [
       "<IPython.core.display.HTML object>"
      ]
     },
     "metadata": {},
     "output_type": "display_data"
    },
    {
     "name": "stdout",
     "output_type": "stream",
     "text": [
      "\n"
     ]
    },
    {
     "data": {
      "text/html": [
       "<b> > to track results use the .show() or .logs() methods  or <a href=\"https://dashboard.default-tenant.app.yh43.iguazio-cd1.com/mlprojects/tutorial-davesh/jobs/monitor/b814387bc6b34cb2abbd9063080c7f4d/overview\" target=\"_blank\">click here</a> to open in UI</b>"
      ],
      "text/plain": [
       "<IPython.core.display.HTML object>"
      ]
     },
     "metadata": {},
     "output_type": "display_data"
    },
    {
     "name": "stdout",
     "output_type": "stream",
     "text": [
      "> 2022-09-01 07:36:40,709 [info] run executed, status=completed\n"
     ]
    }
   ],
   "source": [
    "hp_tuning_run = project.run_function(\n",
    "    \"trainer\", \n",
    "    inputs={\"dataset\": dataset_artifact.uri}, \n",
    "    hyperparams={\n",
    "        \"n_estimators\": [10, 100, 1000], \n",
    "        \"learning_rate\": [1e-1, 1e-3], \n",
    "        \"max_depth\": [2, 8]\n",
    "    }, \n",
    "    selector=\"max.f1_score\", \n",
    ")"
   ]
  },
  {
   "cell_type": "markdown",
   "metadata": {},
   "source": [
    "<br>\n",
    "\n",
    "**View Hyper-param results and the selected run in the MLRun UI:**\n",
    "\n",
    "![hprun](../_static/images/tutorial/hprun.png)\n",
    "\n",
    "Interactive Parallel Coordinates Plot:\n",
    "\n",
    "![pcp](../_static/images/tutorial/pcp.png)\n",
    "\n",
    "<br>\n",
    "\n",
    "**List the generated models and compare the different runs:**"
   ]
  },
  {
   "cell_type": "code",
   "execution_count": 10,
   "metadata": {},
   "outputs": [
    {
     "data": {
      "text/plain": [
       "{'best_iteration': 4,\n",
       " 'accuracy': 0.7647058823529411,\n",
       " 'f1_score': 0.8666666666666666,\n",
       " 'precision_score': 0.7647058823529411,\n",
       " 'recall_score': 1.0,\n",
       " 'feature-importance': 'v3io:///projects/tutorial-davesh/artifacts/4/feature-importance.html',\n",
       " 'test_set': 'store://artifacts/tutorial-davesh/trainer-train_test_set:b814387bc6b34cb2abbd9063080c7f4d',\n",
       " 'confusion-matrix': 'v3io:///projects/tutorial-davesh/artifacts/4/confusion-matrix.html',\n",
       " 'roc-curves': 'v3io:///projects/tutorial-davesh/artifacts/4/roc-curves.html',\n",
       " 'calibration-curve': 'v3io:///projects/tutorial-davesh/artifacts/4/calibration-curve.html',\n",
       " 'model': 'store://artifacts/tutorial-davesh/worldcup_classifier:b814387bc6b34cb2abbd9063080c7f4d',\n",
       " 'iteration_results': 'v3io:///projects/tutorial-davesh/artifacts/iteration_results.csv',\n",
       " 'parallel_coordinates': 'v3io:///projects/tutorial-davesh/artifacts/parallel_coordinates.html'}"
      ]
     },
     "execution_count": 10,
     "metadata": {},
     "output_type": "execute_result"
    }
   ],
   "source": [
    "hp_tuning_run.outputs"
   ]
  },
  {
   "cell_type": "code",
   "execution_count": 11,
   "metadata": {
    "tags": [
     "hide-output"
    ]
   },
   "outputs": [
    {
     "name": "stdout",
     "output_type": "stream",
     "text": [
      "uri: store://models/tutorial-davesh/worldcup_classifier#0:40d0e2aa10df43fe9ab1ce51e45dbe5e, metrics: {'accuracy': 0.773109243697479, 'f1_score': 0.8556149732620321, 'precision_score': 0.8333333333333334, 'recall_score': 0.8791208791208791}\n",
      "uri: store://models/tutorial-davesh/worldcup_classifier#1:b814387bc6b34cb2abbd9063080c7f4d, metrics: {'accuracy': 0.7478991596638656, 'f1_score': 0.8484848484848485, 'precision_score': 0.7850467289719626, 'recall_score': 0.9230769230769231}\n",
      "uri: store://models/tutorial-davesh/worldcup_classifier#2:b814387bc6b34cb2abbd9063080c7f4d, metrics: {'accuracy': 0.773109243697479, 'f1_score': 0.8571428571428572, 'precision_score': 0.826530612244898, 'recall_score': 0.8901098901098901}\n",
      "uri: store://models/tutorial-davesh/worldcup_classifier#3:b814387bc6b34cb2abbd9063080c7f4d, metrics: {'accuracy': 0.7394957983193278, 'f1_score': 0.8324324324324325, 'precision_score': 0.8191489361702128, 'recall_score': 0.8461538461538461}\n",
      "uri: store://models/tutorial-davesh/worldcup_classifier#4:b814387bc6b34cb2abbd9063080c7f4d, metrics: {'accuracy': 0.7647058823529411, 'f1_score': 0.8666666666666666, 'precision_score': 0.7647058823529411, 'recall_score': 1.0}\n",
      "uri: store://models/tutorial-davesh/worldcup_classifier#5:b814387bc6b34cb2abbd9063080c7f4d, metrics: {'accuracy': 0.7647058823529411, 'f1_score': 0.8666666666666666, 'precision_score': 0.7647058823529411, 'recall_score': 1.0}\n",
      "uri: store://models/tutorial-davesh/worldcup_classifier#6:b814387bc6b34cb2abbd9063080c7f4d, metrics: {'accuracy': 0.7563025210084033, 'f1_score': 0.8542713567839196, 'precision_score': 0.7870370370370371, 'recall_score': 0.9340659340659341}\n",
      "uri: store://models/tutorial-davesh/worldcup_classifier#7:b814387bc6b34cb2abbd9063080c7f4d, metrics: {'accuracy': 0.7647058823529411, 'f1_score': 0.849462365591398, 'precision_score': 0.8315789473684211, 'recall_score': 0.8681318681318682}\n",
      "uri: store://models/tutorial-davesh/worldcup_classifier#8:b814387bc6b34cb2abbd9063080c7f4d, metrics: {'accuracy': 0.7478991596638656, 'f1_score': 0.8387096774193549, 'precision_score': 0.8210526315789474, 'recall_score': 0.8571428571428571}\n",
      "uri: store://models/tutorial-davesh/worldcup_classifier#9:b814387bc6b34cb2abbd9063080c7f4d, metrics: {'accuracy': 0.7310924369747899, 'f1_score': 0.8297872340425533, 'precision_score': 0.8041237113402062, 'recall_score': 0.8571428571428571}\n",
      "uri: store://models/tutorial-davesh/worldcup_classifier#10:b814387bc6b34cb2abbd9063080c7f4d, metrics: {'accuracy': 0.7647058823529411, 'f1_score': 0.8666666666666666, 'precision_score': 0.7647058823529411, 'recall_score': 1.0}\n",
      "uri: store://models/tutorial-davesh/worldcup_classifier#11:b814387bc6b34cb2abbd9063080c7f4d, metrics: {'accuracy': 0.7647058823529411, 'f1_score': 0.8666666666666666, 'precision_score': 0.7647058823529411, 'recall_score': 1.0}\n",
      "uri: store://models/tutorial-davesh/worldcup_classifier#12:b814387bc6b34cb2abbd9063080c7f4d, metrics: {'accuracy': 0.7647058823529411, 'f1_score': 0.851063829787234, 'precision_score': 0.8247422680412371, 'recall_score': 0.8791208791208791}\n"
     ]
    }
   ],
   "source": [
    "# list the models in the project (can apply filters)\n",
    "models = project.list_models()\n",
    "for model in models:\n",
    "    print(f\"uri: {model.uri}, metrics: {model.metrics}\")"
   ]
  },
  {
   "cell_type": "code",
   "execution_count": 12,
   "metadata": {},
   "outputs": [],
   "source": [
    "# to view the full model object use:\n",
    "# print(models[0].to_yaml())"
   ]
  },
  {
   "cell_type": "code",
   "execution_count": null,
   "metadata": {
    "tags": [
     "hide-output"
    ]
   },
   "outputs": [],
   "source": [
    "# compare the runs (generate interactive parallel coordinates plot and a table)\n",
    "project.list_runs(name=\"trainer-train\", iter=True).compare()"
   ]
  },
  {
   "cell_type": "markdown",
   "metadata": {},
   "source": [
    "<a id=\"model-serving\"></a>\n",
    "## Build and test the model serving functions\n",
    "\n",
    "MLRun serving can produce managed, real-time, serverless, pipelines composed of various data processing and ML tasks. The pipelines use the Nuclio real-time serverless engine, which can be deployed anywhere. For more details and examples, see the [MLRun Serving Graphs](https://docs.mlrun.org/en/stable/serving/serving-graph.html).\n",
    "\n",
    "**Create a model serving function from our [code](serving.py)  [(view)](serving.html)**"
   ]
  },
  {
   "cell_type": "code",
   "execution_count": null,
   "metadata": {},
   "outputs": [],
   "source": [
    "serving_fn = mlrun.new_function(\"serving\", image=\"mlrun/mlrun\", kind=\"serving\")\n",
    "serving_fn.add_model('worldcup-classifier',model_path=hp_tuning_run.outputs[\"model\"], class_name='mlrun.frameworks.sklearn.SklearnModelServer')"
   ]
  },
  {
   "cell_type": "code",
   "execution_count": null,
   "metadata": {},
   "outputs": [],
   "source": [
    "# create a mock (simulator of the real-time function)\n",
    "server = serving_fn.to_mock_server()\n",
    "\n",
    "my_data = {\"inputs\"\n",
    "           :[[\n",
    "              1\n",
    "            ]*187]\n",
    "}\n",
    "server.test(\"/v2/models/worldcup-classifier/infer\", body=my_data)"
   ]
  },
  {
   "cell_type": "markdown",
   "metadata": {},
   "source": [
    "## Done!\n",
    "\n",
    "Congratulation! You've completed Part 2 of the MLRun getting-started tutorial.\n",
    "Proceed to [**Part 3: Model serving**](03-model-serving.html) to learn how to deploy and serve your model using a serverless function."
   ]
  }
 ],
 "metadata": {
  "kernelspec": {
   "display_name": "Python 3",
   "language": "python",
   "name": "python3"
  },
  "language_info": {
   "codemirror_mode": {
    "name": "ipython",
    "version": 3
   },
   "file_extension": ".py",
   "mimetype": "text/x-python",
   "name": "python",
   "nbconvert_exporter": "python",
   "pygments_lexer": "ipython3",
   "version": "3.7.6"
  }
 },
 "nbformat": 4,
 "nbformat_minor": 5
}
